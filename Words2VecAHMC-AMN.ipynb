{
 "cells": [
  {
   "cell_type": "code",
   "execution_count": 7,
   "metadata": {},
   "outputs": [],
   "source": [
    "#Généraux : \n",
    "import spacy\n",
    "import fr_core_news_md\n",
    "import pandas as pd\n",
    "import numpy as np\n",
    "import re\n",
    "\n",
    "#Autres\n",
    "import pickle\n",
    "import glob\n",
    "from collections import Counter\n",
    "from os import path\n",
    "from pathlib import Path\n",
    "import glob\n"
   ]
  },
  {
   "cell_type": "code",
   "execution_count": 9,
   "metadata": {},
   "outputs": [],
   "source": [
    "#Import des dataframes \n",
    "dfAHMC = pd.read_csv(\"./Notebook_data/Exploration_Donnees_data/ArticlesEnsemble/titres_articles_full_AHMC-to-1908.txt\")\n",
    "\n",
    "dfAMN = pd.read_csv(\"./Notebook_data/Exploration_Donnees_data/ArticlesEnsemble/titres_articles_full_AMN-1898-1908.txt\")\n"
   ]
  },
  {
   "cell_type": "code",
   "execution_count": 10,
   "metadata": {},
   "outputs": [
    {
     "data": {
      "text/html": [
       "<div>\n",
       "<style scoped>\n",
       "    .dataframe tbody tr th:only-of-type {\n",
       "        vertical-align: middle;\n",
       "    }\n",
       "\n",
       "    .dataframe tbody tr th {\n",
       "        vertical-align: top;\n",
       "    }\n",
       "\n",
       "    .dataframe thead th {\n",
       "        text-align: right;\n",
       "    }\n",
       "</style>\n",
       "<table border=\"1\" class=\"dataframe\">\n",
       "  <thead>\n",
       "    <tr style=\"text-align: right;\">\n",
       "      <th></th>\n",
       "      <th>Rapport médical d'ensemble sur les colonnes du Yen-Thé (Novembre et décembre 1895)</th>\n",
       "      <th>par le Dr Fruitet</th>\n",
       "      <th>Poste militaire de Nioro (Soudan)</th>\n",
       "      <th>par le Dr Suard</th>\n",
       "      <th>Note sur l'azote nitrique de quelques eau de la ville de Brest</th>\n",
       "      <th>par P. Le Naour</th>\n",
       "      <th>Variétés. Secours médicaux aux pêcheurs (Campagne de 1897). [Dr Bonnafy.]. / Statistique de la marine Néerlandaise pour 1895Notes sur les pêcheurs d'Islande</th>\n",
       "      <th>par le Dr Sisco</th>\n",
       "      <th>Contribution au traitement des bubons et des cystites</th>\n",
       "      <th>par le Dr Touren</th>\n",
       "      <th>...</th>\n",
       "      <th>Une page d'hygiène professionnelle</th>\n",
       "      <th>par le docteur Étourneau</th>\n",
       "      <th>Le rein polykystique de l'adulte</th>\n",
       "      <th>par le Dr Dargein</th>\n",
       "      <th>Explosion d'un collecteur de vapeur à bord du « Descartes »</th>\n",
       "      <th>6 décès. Par le docteur P. Bellile</th>\n",
       "      <th>Trois abcès du foie ouverts dans le péricarde</th>\n",
       "      <th>par le Dr Corolleur</th>\n",
       "      <th>Ponction Lombaire dans un traumatisme du crâne. Guérison. Par le docteur Colomb</th>\n",
       "      <th>Unnamed: 932</th>\n",
       "    </tr>\n",
       "  </thead>\n",
       "  <tbody>\n",
       "  </tbody>\n",
       "</table>\n",
       "<p>0 rows × 933 columns</p>\n",
       "</div>"
      ],
      "text/plain": [
       "Empty DataFrame\n",
       "Columns: [Rapport médical d'ensemble sur les colonnes du Yen-Thé (Novembre et décembre 1895),  par le Dr Fruitet,  Poste militaire de Nioro (Soudan),  par le Dr Suard,  Note sur l'azote nitrique de quelques eau de la ville de Brest,  par P. Le Naour,  Variétés. Secours médicaux aux pêcheurs (Campagne de 1897). [Dr Bonnafy.]. / Statistique de la marine Néerlandaise pour 1895Notes sur les pêcheurs d'Islande,  par le Dr Sisco,  Contribution au traitement des bubons et des cystites,  par le Dr Touren,  Contribution au traitement des bubons et des cystites.1,  par le Dr TourenUn cas d'éléphantiasis du scrotum,  ablation,  mort par tétanos,  par le Dr Robert,  Variétés. / Les pertes d'hommes pendant la campagne de pêche à Terre-Neuve en 1897Variétés. Les pertes d'hommes pendant la campagne de pêche à Terre-Neuve en 1897. / Rapport médical de la mission lyonnaise en ChineL'hygiène et le service médical à bord de la surprise,  par le Dr Titi,  Le gonocoque. Leçon faite par M. V. Morax à l'institut pasteur,  recueillie. Par le Dr Chastang,  Note additionnelle sur la nature des blessures dans les batailles navales contemporaines,  par le Dr J.-A. Portengen,  Recherches expérimentales sur l'empoisonnement par la fausse oronge,  par le Dr Le Dantec,  Une campagne de vaccine au Sénégal (1896),  par le Dr Porquier,  Clinique otologique,  par le Dr de Champeaux,  Contribution au traitement de la syphilis par les injections intra-musculaires d'huile grise,  par le Dr Touren.1,  Variétés. / Médecins de colonisation de l'AlgérieRapport médical sur les colonness du Dakol et la mission du Mossi (Soudan Français),  du 25 février 1896 au 16 avril 1897,  par le Dr Henric,  Mémoire sur les lésions d'origine traumatique et d'origine tuberculeuse qui intéressent le rachis,  par le Dr C. Auffret,  Service de santé du 11e régiment d'infanterie de marine stationné en Indo-Chine (1896),  par le Dr Vinas,  Variétés. La mortalité des pêcheurs d'Islande. [Dr L. Chastang.]. / Mesures à prendre pour éviter à Madagascar la contagion par les boutres. Peste bubonique de l'IndeVariétés. Mesures à prendre pour éviter à Madagascar la contagion par les boutres. Peste bubonique de l'Inde. [Dr Duville.]. / Statistique médicale de la marine Allemande,  du 1er avril 1893. au 31 mars 1895,  par le Dr Globig,  Variétés. Statistique médicale de la marine Allemande,  du 1er avril 1893. au 31 mars 1895.1,  par le Dr Globig.1,  Climats en général. Climats chauds en particulier,  par le Dr Le Dantec.1,  Études d'hygiène navale,  par le Dr Danguy des Desert,  Quelques conseils d'hygiène pour le voyageur à Madagascar,  par le Dr Robert.1,  Variétés. Un nouveau journal. Archiv für Schiffs und Tropen Hygiene unter besonderer Berücksichtigung der Pathologie und Therapie,  publié par le Dr Mense,  Cassel,  1897. - Archives d'hygiène tropicale de navale. [Dr C. Mense.]. / Les Rayons roentgenColonne expéditionnaire dans la Haut-Dahomey,  par le Dr BartetChaussure du fantassin. Par le Dr PratColonne expéditionnaire dans le Haut-Dahomey,  par le Dr Bartet,  Secours aux blessés. Salles opératoires. - Moyens de transport,  par le Dr C. AuffretSecours aux blessés. / Salles opératoires. - Moyens de transport,  par le Dr C. Auffret.1,  Secours aux blessés. Salles opératoires. - Moyens de transport.1,  par le Dr C. Auffret.2,  Désinfection et antisepsie,  par le Dr SalanoueDeux cas de luxation sus-acromiale de l'épaule,  traités par la suture osseuse à l'hôpital de la marine de Lorient,  par le Dr CaironVariétés. L'état des médecins à bord des navires. Il y a deux siècles. [Dr Gros.]. / Note sur l'extension de la tuberculose pulmonaire en IslandeVariétés. Note sur l'extension de la tuberculose pulmonaire en Islande. [Dr Chastang.]. / La vie moyenne dans les divers pays d'Europe. (Bulletin général de thérapeutique.)Deux cas frustes de myxoedème spontané de l'adulte,  par le Dr P.-A. Boudou,  Essai de détatouage par un procédé nouveau,  par le Dr Félix Brunet,  La pression osmotique du sang humain dans ses rapports avec le volume des éléments figurés,  par le Dr Eijkmann. (Journal de médecine des Indes hollandaises.). Traduit du hollandais par le Dr Gros,  Note sur les coffres à médicaments et à pansements,  par M. le Dr RouvierNos pêcheurs d'Islande (hygiène et pathologie professionnelles,  assistance médicale),  par le Dr L. Chastang,  Nos pêcheurs d'Islande (hygiène et pathologie professionnelles,  assistance médicale).1,  par le Dr L. ChastangVariétés. Un hôpital flottant à New-York. / De l'habillement et de l'équipement dans le cas de débarquement,  sous les tropiques,  par le Dr Freymadl,  Variétés. De l'habillement et de l'équipement dans le cas de débarquement,  sous les tropiques.1,  par le Dr Freymadl.1,  Secours aux blessés maritimes. Mobilier médical de bord en métal,  par le Dr C. Auffret.3,  Secours aux blessés maritimes. Mobilier médical de bord en métal.1,  par le Dr C. AuffretNouveau procédé d'analyse du bronze blanc et du métal antifriction,  par MM. P. Trouchet,  La lèpre en Nouvelle-Calédonie,  par A. AuchéLa tuberculose dans la marine (statistique -mesures prophylactiques). Par le Dr L. VincentSur le traitement du Craw-Craw. Par le Dr J. EmilyLa lèpre en Nouvelle-Calédonie. Par A. Auché, Phagédénisme des pays chauds,  son identité avec la pourriture d'hôpital,  pathogénie,  symptômes,  traitement. Par le Dr Le DantecLes blessés de Manille. Par le Dr BrémaudRôle de l'insuffisance en matières grasses de la ration alimentaire dans l'étiologie du béribéri. / Hygiène préventive et thérapeutique basées sur cette étiologie,  par le Dr L. LaurentRôle de l'insuffisance en matières grasses de la ration alimentaire dans l'étiologie du béribéri. Hygiène préventive et thérapeutique basées sur cette étiologie,  par le Dr L. LaurentSyndrôme typho-malarien. / Communication faite dans la conférence médicale du mois de Novembre 1897. Par le Dr Joseph Alvaro, Rapport sur l'état sanitaire du poste de Lao-Kay (Tonkin),  par le Dr FruitetDe l'usage externe de la solution de chlorure de chaux,  par le Dr Paul PetitÉpidémie d'oreillons observée sur le vaisseau-école la couronne en 1896,  par le Dr Lesueur-FlorentIctère grave. Traité par les injections de sérum artificiel. Par le Dr A. ValenceNote relative à une tente adaptée au Hamac-Gouttière,  par le Dr GuézennecÉloge d'Amédée Lefèvre,  par le Dr Le MéhautéNote sur l'étiologie et l'hygiène préventive du béribéri, ...]\n",
       "Index: []\n",
       "\n",
       "[0 rows x 933 columns]"
      ]
     },
     "execution_count": 10,
     "metadata": {},
     "output_type": "execute_result"
    }
   ],
   "source": []
  },
  {
   "cell_type": "code",
   "execution_count": 4,
   "metadata": {},
   "outputs": [],
   "source": []
  },
  {
   "cell_type": "code",
   "execution_count": 8,
   "metadata": {},
   "outputs": [],
   "source": [
    "#Importation du pretrained model en français\n",
    "nlp = spacy.load(\"fr_core_news_md\")"
   ]
  },
  {
   "cell_type": "code",
   "execution_count": 5,
   "metadata": {},
   "outputs": [],
   "source": [
    "Path=\"./Notebook_data/Word2Vec/ArticlesParAnnee/*.txt\"\n",
    "n=0\n",
    "for text in glob.glob(Path):\n",
    "    doc_name = path.splitext(path.basename(text))[0]"
   ]
  },
  {
   "cell_type": "code",
   "execution_count": null,
   "metadata": {},
   "outputs": [],
   "source": []
  },
  {
   "cell_type": "code",
   "execution_count": null,
   "metadata": {},
   "outputs": [],
   "source": [
    "df_AHMC_18981908"
   ]
  },
  {
   "cell_type": "code",
   "execution_count": null,
   "metadata": {},
   "outputs": [],
   "source": []
  },
  {
   "cell_type": "code",
   "execution_count": null,
   "metadata": {},
   "outputs": [],
   "source": []
  },
  {
   "cell_type": "code",
   "execution_count": null,
   "metadata": {},
   "outputs": [],
   "source": []
  },
  {
   "cell_type": "code",
   "execution_count": null,
   "metadata": {},
   "outputs": [],
   "source": []
  },
  {
   "cell_type": "code",
   "execution_count": null,
   "metadata": {},
   "outputs": [],
   "source": []
  },
  {
   "cell_type": "code",
   "execution_count": null,
   "metadata": {},
   "outputs": [],
   "source": []
  },
  {
   "cell_type": "code",
   "execution_count": null,
   "metadata": {},
   "outputs": [],
   "source": []
  },
  {
   "cell_type": "code",
   "execution_count": null,
   "metadata": {},
   "outputs": [],
   "source": []
  },
  {
   "cell_type": "code",
   "execution_count": null,
   "metadata": {},
   "outputs": [],
   "source": []
  },
  {
   "cell_type": "code",
   "execution_count": null,
   "metadata": {},
   "outputs": [],
   "source": [
    "from gensim.test.utils import common_texts\n",
    "from gensim.models import Word2Vec\n",
    "\n",
    "model = Word2Vec(sentences=text, window=5, min_count=1, workers=4)\n",
    "model.save(\"word2vec.model\")\n"
   ]
  },
  {
   "cell_type": "code",
   "execution_count": null,
   "metadata": {},
   "outputs": [],
   "source": [
    "model"
   ]
  },
  {
   "cell_type": "code",
   "execution_count": null,
   "metadata": {},
   "outputs": [],
   "source": []
  },
  {
   "cell_type": "code",
   "execution_count": null,
   "metadata": {
    "scrolled": true
   },
   "outputs": [],
   "source": [
    "import stanza\n",
    "import spacy_stanza\n",
    "stanza.download('fr')"
   ]
  },
  {
   "cell_type": "code",
   "execution_count": null,
   "metadata": {},
   "outputs": [],
   "source": [
    "import stanza\n",
    "from spacy_conll import init_parser\n",
    "\n",
    "\n",
    "# Initialise English parser, already including the ConllFormatter as a pipeline component.\n",
    "# Indicate that we want to get the CoNLL headers in the string output.\n",
    "# `use_gpu` and `verbose` are specific to stanza (and stanfordnlp). These keywords arguments\n",
    "# are passed onto their Pipeline() initialisation\n",
    "nlp = init_parser(\"stanza\",\"fr\",\n",
    "                  parser_opts={\"use_gpu\": True, \"verbose\": False},\n",
    "                  include_headers=True)\n",
    "# Parse a given string\n",
    "doc = nlp(\"A cookie is a baked or cooked food that is typically small, flat and sweet. It usually contains flour, sugar and some type of oil or fat.\")\n",
    "\n",
    "# Get the CoNLL representation of the whole document, including headers\n",
    "conll = doc._.conll_str\n",
    "print(conll)"
   ]
  },
  {
   "cell_type": "code",
   "execution_count": null,
   "metadata": {},
   "outputs": [],
   "source": []
  }
 ],
 "metadata": {
  "kernelspec": {
   "display_name": "Python 3",
   "language": "python",
   "name": "python3"
  },
  "language_info": {
   "codemirror_mode": {
    "name": "ipython",
    "version": 3
   },
   "file_extension": ".py",
   "mimetype": "text/x-python",
   "name": "python",
   "nbconvert_exporter": "python",
   "pygments_lexer": "ipython3",
   "version": "3.8.5"
  }
 },
 "nbformat": 4,
 "nbformat_minor": 4
}
